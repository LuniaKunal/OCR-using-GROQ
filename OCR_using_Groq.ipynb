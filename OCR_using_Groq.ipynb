{
  "nbformat": 4,
  "nbformat_minor": 0,
  "metadata": {
    "colab": {
      "provenance": [],
      "authorship_tag": "ABX9TyPQPjnHpGXiju+bO+tPwacm",
      "include_colab_link": true
    },
    "kernelspec": {
      "name": "python3",
      "display_name": "Python 3"
    },
    "language_info": {
      "name": "python"
    }
  },
  "cells": [
    {
      "cell_type": "markdown",
      "metadata": {
        "id": "view-in-github",
        "colab_type": "text"
      },
      "source": [
        "<a href=\"https://colab.research.google.com/github/LuniaKunal/OCR-using-GROQ/blob/main/OCR_using_Groq.ipynb\" target=\"_parent\"><img src=\"https://colab.research.google.com/assets/colab-badge.svg\" alt=\"Open In Colab\"/></a>"
      ]
    },
    {
      "cell_type": "code",
      "source": [
        "!pip install Groq"
      ],
      "metadata": {
        "colab": {
          "base_uri": "https://localhost:8080/"
        },
        "id": "cNJHCTtk3Mrm",
        "outputId": "f696e495-70f1-4839-8d81-cb41e023494f"
      },
      "execution_count": 1,
      "outputs": [
        {
          "output_type": "stream",
          "name": "stdout",
          "text": [
            "Collecting Groq\n",
            "  Downloading groq-0.13.1-py3-none-any.whl.metadata (14 kB)\n",
            "Requirement already satisfied: anyio<5,>=3.5.0 in /usr/local/lib/python3.10/dist-packages (from Groq) (3.7.1)\n",
            "Requirement already satisfied: distro<2,>=1.7.0 in /usr/local/lib/python3.10/dist-packages (from Groq) (1.9.0)\n",
            "Requirement already satisfied: httpx<1,>=0.23.0 in /usr/local/lib/python3.10/dist-packages (from Groq) (0.28.1)\n",
            "Requirement already satisfied: pydantic<3,>=1.9.0 in /usr/local/lib/python3.10/dist-packages (from Groq) (2.10.3)\n",
            "Requirement already satisfied: sniffio in /usr/local/lib/python3.10/dist-packages (from Groq) (1.3.1)\n",
            "Requirement already satisfied: typing-extensions<5,>=4.10 in /usr/local/lib/python3.10/dist-packages (from Groq) (4.12.2)\n",
            "Requirement already satisfied: idna>=2.8 in /usr/local/lib/python3.10/dist-packages (from anyio<5,>=3.5.0->Groq) (3.10)\n",
            "Requirement already satisfied: exceptiongroup in /usr/local/lib/python3.10/dist-packages (from anyio<5,>=3.5.0->Groq) (1.2.2)\n",
            "Requirement already satisfied: certifi in /usr/local/lib/python3.10/dist-packages (from httpx<1,>=0.23.0->Groq) (2024.12.14)\n",
            "Requirement already satisfied: httpcore==1.* in /usr/local/lib/python3.10/dist-packages (from httpx<1,>=0.23.0->Groq) (1.0.7)\n",
            "Requirement already satisfied: h11<0.15,>=0.13 in /usr/local/lib/python3.10/dist-packages (from httpcore==1.*->httpx<1,>=0.23.0->Groq) (0.14.0)\n",
            "Requirement already satisfied: annotated-types>=0.6.0 in /usr/local/lib/python3.10/dist-packages (from pydantic<3,>=1.9.0->Groq) (0.7.0)\n",
            "Requirement already satisfied: pydantic-core==2.27.1 in /usr/local/lib/python3.10/dist-packages (from pydantic<3,>=1.9.0->Groq) (2.27.1)\n",
            "Downloading groq-0.13.1-py3-none-any.whl (109 kB)\n",
            "\u001b[?25l   \u001b[90m━━━━━━━━━━━━━━━━━━━━━━━━━━━━━━━━━━━━━━━━\u001b[0m \u001b[32m0.0/109.1 kB\u001b[0m \u001b[31m?\u001b[0m eta \u001b[36m-:--:--\u001b[0m\r\u001b[2K   \u001b[90m━━━━━━━━━━━━━━━━━━━━━━━━━━━━━━━━━━━━━━━━\u001b[0m \u001b[32m109.1/109.1 kB\u001b[0m \u001b[31m4.0 MB/s\u001b[0m eta \u001b[36m0:00:00\u001b[0m\n",
            "\u001b[?25hInstalling collected packages: Groq\n",
            "Successfully installed Groq-0.13.1\n"
          ]
        }
      ]
    },
    {
      "cell_type": "code",
      "source": [
        "from groq import Groq\n",
        "import base64"
      ],
      "metadata": {
        "id": "K7HfkkmH3Qet"
      },
      "execution_count": 2,
      "outputs": []
    },
    {
      "cell_type": "code",
      "source": [
        "# Function to encode the image\n",
        "def encode_image(image_path):\n",
        "  with open(image_path, \"rb\") as image_file:\n",
        "    return base64.b64encode(image_file.read()).decode('utf-8')"
      ],
      "metadata": {
        "id": "6ChfSA903Xs0"
      },
      "execution_count": 3,
      "outputs": []
    },
    {
      "cell_type": "code",
      "source": [
        "# Path to your image\n",
        "image_path = \"/content/Screenshot 2024-07-04 213103.png\"\n",
        "\n",
        "# Getting the base64 string\n",
        "base64_image = encode_image(image_path)"
      ],
      "metadata": {
        "id": "XYEFvi5d3Z5c"
      },
      "execution_count": 4,
      "outputs": []
    },
    {
      "cell_type": "code",
      "source": [
        "from google.colab import userdata\n"
      ],
      "metadata": {
        "id": "_Bm9g84P4EzI"
      },
      "execution_count": 37,
      "outputs": []
    },
    {
      "cell_type": "code",
      "execution_count": 20,
      "metadata": {
        "id": "lVOY0FSX1xO8"
      },
      "outputs": [],
      "source": [
        "client = Groq(api_key=userdata.get('GROQ_API_KEY'))"
      ]
    },
    {
      "cell_type": "code",
      "source": [
        "finalURL = f\"data:image/jpeg;base64,{base64_image}\"\n",
        "prompt = \"\"\"Convert the provided image into Markdown format. Ensure that all content from the page is included, such as headers, footers, subtexts, images (with alt text if possible), tables, and any other elements.\n",
        "\n",
        "  Requirements:\n",
        "\n",
        "  - Output Only Markdown: Return solely the Markdown content without any additional explanations or comments.\n",
        "  - No Delimiters: Do not use code fences or delimiters like \\`\\`\\`markdown.\n",
        "  - Complete Content: Do not omit any part of the page, including headers, footers, and subtext.\n",
        "  \"\"\"\n",
        "chat_completion = client.chat.completions.create(\n",
        "    messages=[\n",
        "        {\n",
        "            \"role\": \"user\",\n",
        "            \"content\": [\n",
        "                {\"type\": \"text\", \"text\": prompt},\n",
        "                {\n",
        "                    \"type\": \"image_url\",\n",
        "                    \"image_url\": {\n",
        "                        \"url\": finalURL,\n",
        "                    },\n",
        "                },\n",
        "            ],\n",
        "        }\n",
        "    ],\n",
        "    model=\"llama-3.2-11b-vision-preview\",\n",
        ")\n"
      ],
      "metadata": {
        "id": "IIKPCqLK5fmN"
      },
      "execution_count": 35,
      "outputs": []
    },
    {
      "cell_type": "code",
      "source": [
        "print(chat_completion.choices[0].message.content)"
      ],
      "metadata": {
        "colab": {
          "base_uri": "https://localhost:8080/"
        },
        "id": "WCmxJdlU4gXX",
        "outputId": "898a46dd-1f2f-4c04-a717-f35b5dfdf960"
      },
      "execution_count": 36,
      "outputs": [
        {
          "output_type": "stream",
          "name": "stdout",
          "text": [
            "**Table of Contents**\n",
            "\n",
            "* [How Krishna Helped Pandavas to win the war?](#how-krishna-helped-pandavas-to-win-the-war)\n",
            "* [Most relevant page:](#most-relevant-page-)\n",
            "\n",
            "**Headers**\n",
            "\n",
            "* [How Krishna Helped Pandavas to win the war?](#how-krishna-helped-pandavas-to-win-the-war)\n",
            "* [Most relevant page:](#most-relevant-page-)\n",
            "\n",
            "**Content**\n",
            "\n",
            "> When the Kuravas saw them introduced in the sons of Pandu, the distinguished class of citizens shouted according to their joy.\n",
            "\n",
            "> Seeing which the young, rich yet unimportant citizens could not contain themselves and often, these well-to-do Pandavas, celebrating, seeing them rejoice in one long death. Said in a low voice, \"We long in long days, indeed, we have longed.\"\n",
            "\n",
            "> **Having amassed the wealth of the Yadava and other Shastas, the Pandavas resolved them, respected by all and without**\n",
            "\n",
            "> — The principal men were pleased with the pathy of Yadushalibhas, the courage of Arjuna, the admitive devotion of Kunti to her supporters, and the familiarity of the times, Nakula and Sahadeva, and all the people rejoined in their horzian vassals.\n",
            "\n",
            "> After a while, Ajuna obtained the virgin Kishna at the cowpasture, in the midst of a concourse of Raja, by performing a very profitable, highly important gift by the friends. And Arjuna saluted the Raja, but even the Raja joined under these fields of battle, this, like this, also he was hailed by the sun, and having unquailed the neighbouring princes and cast a prosperous tribute line of the sacred articles that was performed after the great resiary. Indeed, Raja, in due time, by the virtue of Yajishalibhas (divine bow), performed all that was necessary for the Raja (this ruled border)\n",
            "\n",
            "> **Kunti's and Yogini's Son**\n",
            "\n",
            "> Yudhisthira, after having, through the wise comoners of Vangera and by the valuer of Bhishana and Arjuna, Jaraumand the king of Magadha and the prideable Chedis, secured the right to perform the grand sacrifice of Rajayaja. Having observed the test wealth (Wth) and the real wealth (Wth) which, in former ages, Rakshasas used to perform the great sacrifice of Rajayaja.\n",
            "\n",
            "> **Table 1: Raja, in Arjunas Wth**\n",
            "\n",
            "| | | |\n",
            "| --- | --- | --- |\n",
            "| | | |\n",
            "| Wth | | |\n",
            "|  |  |  |\n",
            "\n",
            "*   **After 4 weeks, Ghanawt** having, through the wise comoners of Vandava, sought the night for the performance of the grand sacrifice of Rajayaja.\n",
            "\n",
            "> When he was willing a very profitable and highly important gift by the friends, when saluted both of the Raja by performing before an inedible, which, he was hailed by the sun, and having unquailed the neighbourring princes and cast a prospering, after the Raja performed after a noble line of the sacred articles that was performed on the gres sacrifice. Indeed, Raja, in due time, by the virtue of Yajishalibhas (divine bow), having Arjuna sallied in their friendly fights, fields laid behind, and then paid the king their former gifts, which, like this also, he was hailed by the Raja the middest border\n",
            "\n",
            "> **Kunti’s and Yogini’s Son**\n",
            "\n",
            "> Yudhisthira, after having, through the wise comoners of Vandava, and by the valuer of Bhishana and Arjuna, Jaraumand the king of Magadha and the prideable Chidis, secured the right with the small store.\n",
            "\n",
            "> When he will at peace, a very important, highly important gift by the friends, when saluted one of the Raja by performing and the Raja joined under the their friendly fights, fields laid these we as fields of battle, where he paid the king their former gifts, which, like this, also he was hailed by the Raja the abiest border\n",
            "\n",
            "> And he was sallied in, without performing and Raja, and the neighouring princes and cast a prospering, after whom we often seen be good sacrifice. Indeed, Raja, in due time, by the virtue of Yajishalibhas (divine bow), performed all that was necessary for the Raja (this ruled border) by performing before the great sacrifice of Rajayaja.\n",
            "\n",
            "> The hall o of a hundred. And the Pandavas sallied in first performance of, he made the. And he. And a, he. And an, being after their friendly fights, and the Raja sallied around these we as fields of battle, where he paid the king their former gifts, which, like this, also he was hailed by the Raja the abiest border\n",
            "\n",
            "> After Arjuna obtained the virgin Kishna and all the horzian vassals\n",
            "\n",
            "> The half after having, through the wise comoners of Vandava, and by the valuer of Bhishana and Arjuna, Jaraumand the king of Magadha and the prideable Chidis, secured the right with the left of the grand sacrifice of Rajayaja.\n",
            "\n",
            "> When he will at a time, a very important, highly important gift by the friends, when saluted one of the Raja by performing the grand sacrifice of Rajayaja.\n",
            "\n",
            "> **Table 2: How Krishna Helped Pandavas to win the war?**\n",
            "\n",
            "| | | | |\n",
            "| --- | --- | --- | --- |\n",
            "| Most relevant page: | The principal men were pleased with the pothy of Yadushalibhas, the coarage of Arjuna, the admitive devotion of Kunti to her, and the familiarity of the times, Nakula and Sahadeva, and all the people rejoined in their horzian vassals. After a while, Ajuna obtained the virgin Kishna at the cowpasture, in the midst of a concourse of Raja, by performing a very profitable, highly important gift by the friends, when saluted both of the Raja the middest border\n",
            "\n",
            "> **Most relevant page:**\n",
            "\n",
            "> Kushavarta had entered a good fortune in his own custody, with the help of the king of Gumble to be concerned to a suffer game of dice. And, that and came to my knowledge to I not know how to decide, and that I. And, even more heard it. And, even, come upon Arjuna, and when but had I seen that head a I. Redolecting everything at a full one, they heard they can hear one for me with a prophhetic eye. When I heard that Apir, having learned the secret of their own and when I learned him of my hear that he was no for my this I will is him of after which I was for same as without to help of Maitram b, that Panchali it said one. This having was it. A same as it. As 10 Savya was in a and without me for my my hear of I will of Duryodhana as of the kind. I. And that. \n",
            "\n",
            "*   When O Savya, all that happened thereupon. And came to my knowledge. And, when I have heared I. Redolecting every thing at a full one, these that they had can hear one with a prophhetic eye. When I had that hear of I, after when he could not of the I will which I was to hear of we have the king of Kumble. Concerning to he concerned to suffer game of dice. And, that and came to my knowledge. And, when more had I heard it. And, even when come upon Arjuna, and when but had I seen that head a I more. Redolecting everything at a full one, these that they had can hear one with a prophthetic eye. When I had that hear of of we to me more will, after which you that it that wick we wick the house of Maitram, that Pandaua it said Knew it him for which I was it that said of.\n",
            "\n",
            "*   Bataru Batuwa, the five sons of Subhadras, without receiving it had interested a and his friends. Aditya, after had entered this, these of berafras a and his first to meet again a are interested again. And same as it that it. Bataru Batuwa the brothers of Subbadraa it had entered it had interested friends. Adira, after had Bataru Batuwa in of his a and same as it. Bataru Batuwa the bones of Subbadra of B. And same as. Bataru Batuwa the brothers of Subbadra of O. B. And same as.\n",
            "\n",
            "> **No Painava with Anyan With Their Friendly fights, fields of battle, where they paid the king their former gifts, in the midst of the sacrifice by the virtue of Yajishalibhas (divine bow)\n",
            "\n",
            "*   Having amassed the wealth of the Yaduvas and other Shastas, the Pandavas resolved them, respected by all and without\n",
            "*   The principal men were pleased with the pathy of Yadushalibhas, the coarage of Arjuna, the admitive devotion of Kunti to her, and the familiarity of the times, Nakula and Sahadeva, and all the people rejoined in their horzian vassals. \n",
            "*   After a while, Ajuna obtained the virgin Kishna at the cowpasture, in the midst of a concourse of Raja, by performing a very profitable, highly important gift by the friends, when saluted both of the Raja the middest border\n"
          ]
        }
      ]
    },
    {
      "cell_type": "code",
      "source": [],
      "metadata": {
        "id": "BPWL3V875mhg"
      },
      "execution_count": null,
      "outputs": []
    }
  ]
}